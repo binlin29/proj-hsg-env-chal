{
  "nbformat": 4,
  "nbformat_minor": 0,
  "metadata": {
    "colab": {
      "name": "spatial_cross_corr_income_CES3.ipynb",
      "provenance": [],
      "collapsed_sections": [],
      "authorship_tag": "ABX9TyP2OreDNiUAPGfvGh945HPe",
      "include_colab_link": true
    },
    "kernelspec": {
      "name": "python3",
      "display_name": "Python 3"
    }
  },
  "cells": [
    {
      "cell_type": "markdown",
      "metadata": {
        "id": "view-in-github",
        "colab_type": "text"
      },
      "source": [
        "<a href=\"https://colab.research.google.com/github/xr-cc/proj-hsg-env-chal/blob/master/code/spatial_cross_corr_income_CES3.ipynb\" target=\"_parent\"><img src=\"https://colab.research.google.com/assets/colab-badge.svg\" alt=\"Open In Colab\"/></a>"
      ]
    },
    {
      "cell_type": "markdown",
      "metadata": {
        "id": "yFIZAmPUHSqe"
      },
      "source": [
        "# Spatial correlation analysis of important variables in CES3 Bay Area data, with income and seismic data incorporated\n",
        "\n",
        "Follow the tutorial in http://darribas.org/gds_scipy16/ipynb_md/04_esda.html.\n"
      ]
    },
    {
      "cell_type": "code",
      "metadata": {
        "id": "fzYX1GC-zc-x"
      },
      "source": [
        "! pip install geopandas\n",
        "! pip install descartes\n",
        "! pip install mapclassify\n",
        "! pip install libpysal\n",
        "! pip install esda"
      ],
      "execution_count": null,
      "outputs": []
    },
    {
      "cell_type": "code",
      "metadata": {
        "id": "y3RyZWeO9GPg"
      },
      "source": [
        "import matplotlib.pyplot as plt\n",
        "import seaborn as sns\n",
        "import geopandas as gpd\n",
        "import pandas as pd\n",
        "import numpy as np\n",
        "import os\n",
        "\n",
        "from mpl_toolkits.axes_grid1 import make_axes_locatable\n",
        "\n",
        "# import pysal as ps\n",
        "# from pysal.contrib.viz import mapping as maps\n",
        "\n",
        "import mapclassify as mc\n",
        "import libpysal as lps\n",
        "from esda.moran import Moran,Moran_Local\n",
        "\n",
        "from matplotlib import colors"
      ],
      "execution_count": 2,
      "outputs": []
    },
    {
      "cell_type": "code",
      "metadata": {
        "id": "W6ZuhXnGEwT2"
      },
      "source": [
        "from scipy.spatial.distance import pdist,squareform\n",
        "from sklearn.metrics import r2_score"
      ],
      "execution_count": 112,
      "outputs": []
    },
    {
      "cell_type": "code",
      "metadata": {
        "id": "yD4UFADR9Zxd",
        "outputId": "69bdd6fa-e06c-4494-e287-8baa0dcdec25",
        "colab": {
          "base_uri": "https://localhost:8080/",
          "height": 35
        }
      },
      "source": [
        "# grant access to Google Drive\n",
        "from google.colab import drive\n",
        "# drive.flush_and_unmount()\n",
        "drive.mount('/content/drive',force_remount=True)"
      ],
      "execution_count": 3,
      "outputs": [
        {
          "output_type": "stream",
          "text": [
            "Mounted at /content/drive\n"
          ],
          "name": "stdout"
        }
      ]
    },
    {
      "cell_type": "code",
      "metadata": {
        "id": "LE8si9YQ38VO"
      },
      "source": [
        "# os.listdir(\"/content/drive/My Drive/\")\n",
        "from google.colab import files"
      ],
      "execution_count": 4,
      "outputs": []
    },
    {
      "cell_type": "code",
      "metadata": {
        "id": "GydtZ4-u-KAm",
        "outputId": "70e3c02f-afed-4dbe-946d-e83a2e79ed67",
        "colab": {
          "base_uri": "https://localhost:8080/",
          "height": 35
        }
      },
      "source": [
        "# load data\n",
        "\n",
        "dataPath = \"/content/drive/My Drive/DS4A/DS4A_Team 31/data/CES3/\"\n",
        "xls = pd.ExcelFile(dataPath+\"CES3, income brackets, seismic - Bay Area.xlsx\")\n",
        "sheets = xls.sheet_names\n",
        "print(sheets)\n"
      ],
      "execution_count": 5,
      "outputs": [
        {
          "output_type": "stream",
          "text": [
            "['CES 3.0 (2018 Update)', 'Income cutoffs per county', 'Data Dictionary', 'Missing&NAData', 'Demographic profile']\n"
          ],
          "name": "stdout"
        }
      ]
    },
    {
      "cell_type": "code",
      "metadata": {
        "id": "-AWxZtZf-j-T"
      },
      "source": [
        "# load dataframes\n",
        "\n",
        "df = pd.read_excel(xls, sheet_name=sheets[0])\n",
        "df_dict = pd.read_excel(xls, sheet_name=sheets[2],skiprows=range(0,6)).dropna(thresh=2)\n",
        "df_demo = pd.read_excel(xls, sheet_name=sheets[4], header=None,\n",
        "                        names=['Census Tract','CES 3.0 Score','CES 3.0 Percentile','CES 3.0 Percentile Range','Total Population',\n",
        "                               'California County','Age:<10','Age:11-64','Age:>65', 'Race:Hispanic','Race:White','Race:AfricanAmerican',\n",
        "                               'Race:NativeAmerican','Race:Aisan','Race:Other'],skiprows=[0]).dropna()\n",
        "\n",
        "df_dict_temp = df_dict.dropna()\n",
        "# var_char = df_dict_temp[df_dict_temp['CalEnviroScreen Category'].str.contains('Population')]['Variable Name'].drop_duplicates()\n",
        "# var_char = [v.rstrip() for v in var_char]\n",
        "# var_char.insert(0,'Census ID')\n",
        "# print(var_char)\n",
        "\n",
        "# load geo dataframe\n",
        "gdf = gpd.read_file(dataPath+\"CES3June2018Update.shp\")\n",
        "gdf = gdf[gdf['tract'].isin(df['Census ID'])].reset_index(drop=True).rename(columns={'tract': 'Census ID'})\n",
        "\n",
        "# join dataframes\n",
        "gdf = gdf.merge(df, on='Census ID')"
      ],
      "execution_count": 6,
      "outputs": []
    },
    {
      "cell_type": "code",
      "metadata": {
        "id": "Hz6bDfBj_3PV",
        "outputId": "b62d39cf-7e1e-4285-ae78-62db05eeb33c",
        "colab": {
          "base_uri": "https://localhost:8080/",
          "height": 355
        }
      },
      "source": [
        "gdf.head()"
      ],
      "execution_count": 7,
      "outputs": [
        {
          "output_type": "execute_result",
          "data": {
            "text/html": [
              "<div>\n",
              "<style scoped>\n",
              "    .dataframe tbody tr th:only-of-type {\n",
              "        vertical-align: middle;\n",
              "    }\n",
              "\n",
              "    .dataframe tbody tr th {\n",
              "        vertical-align: top;\n",
              "    }\n",
              "\n",
              "    .dataframe thead th {\n",
              "        text-align: right;\n",
              "    }\n",
              "</style>\n",
              "<table border=\"1\" class=\"dataframe\">\n",
              "  <thead>\n",
              "    <tr style=\"text-align: right;\">\n",
              "      <th></th>\n",
              "      <th>Census ID</th>\n",
              "      <th>pop2010</th>\n",
              "      <th>California</th>\n",
              "      <th>ZIP_x</th>\n",
              "      <th>City</th>\n",
              "      <th>Longitude_x</th>\n",
              "      <th>Latitude_x</th>\n",
              "      <th>CIscore</th>\n",
              "      <th>CIscoreP</th>\n",
              "      <th>ozone</th>\n",
              "      <th>ozoneP</th>\n",
              "      <th>pm</th>\n",
              "      <th>pmP</th>\n",
              "      <th>diesel</th>\n",
              "      <th>dieselP</th>\n",
              "      <th>drink</th>\n",
              "      <th>drinkP</th>\n",
              "      <th>pest</th>\n",
              "      <th>pestP</th>\n",
              "      <th>RSEIhaz</th>\n",
              "      <th>RSEIhazP</th>\n",
              "      <th>traffic</th>\n",
              "      <th>trafficP</th>\n",
              "      <th>cleanups</th>\n",
              "      <th>cleanupsP</th>\n",
              "      <th>gwthreats</th>\n",
              "      <th>gwthreatsP</th>\n",
              "      <th>haz</th>\n",
              "      <th>hazP</th>\n",
              "      <th>iwb</th>\n",
              "      <th>iwbP</th>\n",
              "      <th>swis</th>\n",
              "      <th>swisP</th>\n",
              "      <th>Pollution</th>\n",
              "      <th>PollutionS</th>\n",
              "      <th>PollutionP</th>\n",
              "      <th>asthma</th>\n",
              "      <th>asthmaP</th>\n",
              "      <th>lbw</th>\n",
              "      <th>lbwP</th>\n",
              "      <th>...</th>\n",
              "      <th>Drinking Water</th>\n",
              "      <th>Drinking Water Pctl</th>\n",
              "      <th>Pesticides</th>\n",
              "      <th>Pesticides Pctl</th>\n",
              "      <th>Tox. Release</th>\n",
              "      <th>Tox. Release Pctl</th>\n",
              "      <th>Traffic</th>\n",
              "      <th>Traffic Pctl</th>\n",
              "      <th>Cleanup Sites</th>\n",
              "      <th>Cleanup Sites Pctl</th>\n",
              "      <th>Groundwater Threats</th>\n",
              "      <th>Groundwater Threats Pctl</th>\n",
              "      <th>Haz. Waste</th>\n",
              "      <th>Haz. Waste Pctl</th>\n",
              "      <th>Imp. Water Bodies</th>\n",
              "      <th>Imp. Water Bodies Pctl</th>\n",
              "      <th>Solid Waste</th>\n",
              "      <th>Solid Waste Pctl</th>\n",
              "      <th>Pollution Burden</th>\n",
              "      <th>Pollution Burden Score</th>\n",
              "      <th>Pollution Burden Pctl</th>\n",
              "      <th>Asthma</th>\n",
              "      <th>Asthma Pctl</th>\n",
              "      <th>Low Birth Weight</th>\n",
              "      <th>Low Birth Weight Pctl</th>\n",
              "      <th>Cardiovascular Disease</th>\n",
              "      <th>Cardiovascular Disease Pctl</th>\n",
              "      <th>Education</th>\n",
              "      <th>Education Pctl</th>\n",
              "      <th>Linguistic Isolation</th>\n",
              "      <th>Linguistic Isolation Pctl</th>\n",
              "      <th>Poverty</th>\n",
              "      <th>Poverty Pctl</th>\n",
              "      <th>Unemployment</th>\n",
              "      <th>Unemployment Pctl</th>\n",
              "      <th>Housing Burden</th>\n",
              "      <th>Housing Burden Pctl</th>\n",
              "      <th>Pop. Char.</th>\n",
              "      <th>Pop. Char. Score</th>\n",
              "      <th>Pop. Char. Pctl</th>\n",
              "    </tr>\n",
              "  </thead>\n",
              "  <tbody>\n",
              "    <tr>\n",
              "      <th>0</th>\n",
              "      <td>6.085509e+09</td>\n",
              "      <td>4603</td>\n",
              "      <td>Santa Clara</td>\n",
              "      <td>94043</td>\n",
              "      <td>Mountain View</td>\n",
              "      <td>-122.074346</td>\n",
              "      <td>37.401206</td>\n",
              "      <td>19.89</td>\n",
              "      <td>38</td>\n",
              "      <td>0.035</td>\n",
              "      <td>17</td>\n",
              "      <td>9.96</td>\n",
              "      <td>43</td>\n",
              "      <td>28.58</td>\n",
              "      <td>83</td>\n",
              "      <td>277.40</td>\n",
              "      <td>29</td>\n",
              "      <td>0.000</td>\n",
              "      <td>0</td>\n",
              "      <td>252.02</td>\n",
              "      <td>40</td>\n",
              "      <td>1230.83</td>\n",
              "      <td>76</td>\n",
              "      <td>66.5</td>\n",
              "      <td>98</td>\n",
              "      <td>121.85</td>\n",
              "      <td>98</td>\n",
              "      <td>0.20</td>\n",
              "      <td>61</td>\n",
              "      <td>5</td>\n",
              "      <td>55</td>\n",
              "      <td>0.0</td>\n",
              "      <td>0</td>\n",
              "      <td>48.16</td>\n",
              "      <td>5.93</td>\n",
              "      <td>67</td>\n",
              "      <td>20.70</td>\n",
              "      <td>9</td>\n",
              "      <td>4.77</td>\n",
              "      <td>46</td>\n",
              "      <td>...</td>\n",
              "      <td>277.402571</td>\n",
              "      <td>28.701509</td>\n",
              "      <td>0.000000</td>\n",
              "      <td>0.000000</td>\n",
              "      <td>252.024338</td>\n",
              "      <td>40.296832</td>\n",
              "      <td>1230.83</td>\n",
              "      <td>76.212558</td>\n",
              "      <td>66.5</td>\n",
              "      <td>97.756293</td>\n",
              "      <td>121.85</td>\n",
              "      <td>98.013903</td>\n",
              "      <td>0.200</td>\n",
              "      <td>60.500463</td>\n",
              "      <td>5</td>\n",
              "      <td>55.007738</td>\n",
              "      <td>0.0</td>\n",
              "      <td>0.0</td>\n",
              "      <td>48.161547</td>\n",
              "      <td>5.932202</td>\n",
              "      <td>67.330429</td>\n",
              "      <td>20.70</td>\n",
              "      <td>8.839297</td>\n",
              "      <td>4.77</td>\n",
              "      <td>45.802896</td>\n",
              "      <td>6.48</td>\n",
              "      <td>30.270540</td>\n",
              "      <td>5.0</td>\n",
              "      <td>19.707292</td>\n",
              "      <td>4.6</td>\n",
              "      <td>33.902146</td>\n",
              "      <td>10.5</td>\n",
              "      <td>7.806411</td>\n",
              "      <td>9.9</td>\n",
              "      <td>55.298896</td>\n",
              "      <td>21.5</td>\n",
              "      <td>65.143437</td>\n",
              "      <td>32.337940</td>\n",
              "      <td>3.353660</td>\n",
              "      <td>23.054610</td>\n",
              "    </tr>\n",
              "    <tr>\n",
              "      <th>1</th>\n",
              "      <td>6.085510e+09</td>\n",
              "      <td>4688</td>\n",
              "      <td>Santa Clara</td>\n",
              "      <td>94022</td>\n",
              "      <td>Los Altos</td>\n",
              "      <td>-122.120112</td>\n",
              "      <td>37.392783</td>\n",
              "      <td>3.53</td>\n",
              "      <td>1</td>\n",
              "      <td>0.035</td>\n",
              "      <td>17</td>\n",
              "      <td>9.96</td>\n",
              "      <td>43</td>\n",
              "      <td>19.90</td>\n",
              "      <td>61</td>\n",
              "      <td>465.27</td>\n",
              "      <td>48</td>\n",
              "      <td>0.056</td>\n",
              "      <td>16</td>\n",
              "      <td>202.20</td>\n",
              "      <td>36</td>\n",
              "      <td>566.07</td>\n",
              "      <td>38</td>\n",
              "      <td>6.9</td>\n",
              "      <td>50</td>\n",
              "      <td>17.10</td>\n",
              "      <td>66</td>\n",
              "      <td>0.06</td>\n",
              "      <td>28</td>\n",
              "      <td>0</td>\n",
              "      <td>0</td>\n",
              "      <td>0.0</td>\n",
              "      <td>0</td>\n",
              "      <td>34.30</td>\n",
              "      <td>4.23</td>\n",
              "      <td>30</td>\n",
              "      <td>9.01</td>\n",
              "      <td>0</td>\n",
              "      <td>2.63</td>\n",
              "      <td>6</td>\n",
              "      <td>...</td>\n",
              "      <td>465.266900</td>\n",
              "      <td>47.561432</td>\n",
              "      <td>0.055507</td>\n",
              "      <td>16.412742</td>\n",
              "      <td>202.201348</td>\n",
              "      <td>36.118733</td>\n",
              "      <td>566.07</td>\n",
              "      <td>37.974684</td>\n",
              "      <td>6.9</td>\n",
              "      <td>50.474279</td>\n",
              "      <td>17.10</td>\n",
              "      <td>65.921880</td>\n",
              "      <td>0.060</td>\n",
              "      <td>28.044486</td>\n",
              "      <td>0</td>\n",
              "      <td>0.000000</td>\n",
              "      <td>0.0</td>\n",
              "      <td>0.0</td>\n",
              "      <td>34.304607</td>\n",
              "      <td>4.225401</td>\n",
              "      <td>30.105787</td>\n",
              "      <td>9.01</td>\n",
              "      <td>0.423887</td>\n",
              "      <td>2.63</td>\n",
              "      <td>5.549148</td>\n",
              "      <td>3.43</td>\n",
              "      <td>1.882558</td>\n",
              "      <td>2.4</td>\n",
              "      <td>7.418622</td>\n",
              "      <td>2.2</td>\n",
              "      <td>15.677910</td>\n",
              "      <td>5.8</td>\n",
              "      <td>1.759899</td>\n",
              "      <td>3.5</td>\n",
              "      <td>4.251809</td>\n",
              "      <td>15.7</td>\n",
              "      <td>38.461538</td>\n",
              "      <td>8.066243</td>\n",
              "      <td>0.836523</td>\n",
              "      <td>0.731492</td>\n",
              "    </tr>\n",
              "    <tr>\n",
              "      <th>2</th>\n",
              "      <td>6.085509e+09</td>\n",
              "      <td>3212</td>\n",
              "      <td>Santa Clara</td>\n",
              "      <td>94306</td>\n",
              "      <td>Palo Alto</td>\n",
              "      <td>-122.114454</td>\n",
              "      <td>37.406981</td>\n",
              "      <td>7.97</td>\n",
              "      <td>8</td>\n",
              "      <td>0.035</td>\n",
              "      <td>17</td>\n",
              "      <td>9.54</td>\n",
              "      <td>41</td>\n",
              "      <td>23.86</td>\n",
              "      <td>73</td>\n",
              "      <td>491.91</td>\n",
              "      <td>52</td>\n",
              "      <td>0.000</td>\n",
              "      <td>0</td>\n",
              "      <td>205.50</td>\n",
              "      <td>37</td>\n",
              "      <td>633.51</td>\n",
              "      <td>45</td>\n",
              "      <td>5.3</td>\n",
              "      <td>45</td>\n",
              "      <td>16.50</td>\n",
              "      <td>65</td>\n",
              "      <td>0.00</td>\n",
              "      <td>0</td>\n",
              "      <td>0</td>\n",
              "      <td>0</td>\n",
              "      <td>0.0</td>\n",
              "      <td>0</td>\n",
              "      <td>32.50</td>\n",
              "      <td>4.00</td>\n",
              "      <td>26</td>\n",
              "      <td>9.79</td>\n",
              "      <td>1</td>\n",
              "      <td>3.75</td>\n",
              "      <td>21</td>\n",
              "      <td>...</td>\n",
              "      <td>491.909027</td>\n",
              "      <td>52.276413</td>\n",
              "      <td>0.000000</td>\n",
              "      <td>0.000000</td>\n",
              "      <td>205.502860</td>\n",
              "      <td>36.530307</td>\n",
              "      <td>633.51</td>\n",
              "      <td>44.742449</td>\n",
              "      <td>5.3</td>\n",
              "      <td>45.220722</td>\n",
              "      <td>16.50</td>\n",
              "      <td>64.581264</td>\n",
              "      <td>0.000</td>\n",
              "      <td>0.000000</td>\n",
              "      <td>0</td>\n",
              "      <td>0.000000</td>\n",
              "      <td>0.0</td>\n",
              "      <td>0.0</td>\n",
              "      <td>32.499793</td>\n",
              "      <td>4.003097</td>\n",
              "      <td>25.550716</td>\n",
              "      <td>9.79</td>\n",
              "      <td>0.610896</td>\n",
              "      <td>3.75</td>\n",
              "      <td>20.889402</td>\n",
              "      <td>3.16</td>\n",
              "      <td>1.009849</td>\n",
              "      <td>3.8</td>\n",
              "      <td>14.042392</td>\n",
              "      <td>13.4</td>\n",
              "      <td>70.590588</td>\n",
              "      <td>15.2</td>\n",
              "      <td>16.668762</td>\n",
              "      <td>5.2</td>\n",
              "      <td>14.151542</td>\n",
              "      <td>15.8</td>\n",
              "      <td>39.083524</td>\n",
              "      <td>19.205372</td>\n",
              "      <td>1.991725</td>\n",
              "      <td>7.478875</td>\n",
              "    </tr>\n",
              "    <tr>\n",
              "      <th>3</th>\n",
              "      <td>6.085509e+09</td>\n",
              "      <td>3706</td>\n",
              "      <td>Santa Clara</td>\n",
              "      <td>94043</td>\n",
              "      <td>Mountain View</td>\n",
              "      <td>-122.092278</td>\n",
              "      <td>37.406030</td>\n",
              "      <td>17.20</td>\n",
              "      <td>31</td>\n",
              "      <td>0.035</td>\n",
              "      <td>17</td>\n",
              "      <td>9.54</td>\n",
              "      <td>41</td>\n",
              "      <td>23.86</td>\n",
              "      <td>73</td>\n",
              "      <td>277.40</td>\n",
              "      <td>29</td>\n",
              "      <td>0.000</td>\n",
              "      <td>0</td>\n",
              "      <td>225.06</td>\n",
              "      <td>39</td>\n",
              "      <td>493.52</td>\n",
              "      <td>30</td>\n",
              "      <td>44.2</td>\n",
              "      <td>95</td>\n",
              "      <td>30.85</td>\n",
              "      <td>82</td>\n",
              "      <td>0.02</td>\n",
              "      <td>16</td>\n",
              "      <td>4</td>\n",
              "      <td>49</td>\n",
              "      <td>0.0</td>\n",
              "      <td>0</td>\n",
              "      <td>37.86</td>\n",
              "      <td>4.66</td>\n",
              "      <td>39</td>\n",
              "      <td>21.29</td>\n",
              "      <td>10</td>\n",
              "      <td>3.85</td>\n",
              "      <td>23</td>\n",
              "      <td>...</td>\n",
              "      <td>277.402571</td>\n",
              "      <td>28.701509</td>\n",
              "      <td>0.000000</td>\n",
              "      <td>0.000000</td>\n",
              "      <td>225.063625</td>\n",
              "      <td>38.600649</td>\n",
              "      <td>493.52</td>\n",
              "      <td>30.078957</td>\n",
              "      <td>44.2</td>\n",
              "      <td>95.147756</td>\n",
              "      <td>30.85</td>\n",
              "      <td>82.224429</td>\n",
              "      <td>0.025</td>\n",
              "      <td>15.681186</td>\n",
              "      <td>4</td>\n",
              "      <td>48.795048</td>\n",
              "      <td>0.0</td>\n",
              "      <td>0.0</td>\n",
              "      <td>37.858312</td>\n",
              "      <td>4.663122</td>\n",
              "      <td>39.439950</td>\n",
              "      <td>21.29</td>\n",
              "      <td>9.712006</td>\n",
              "      <td>3.85</td>\n",
              "      <td>22.952710</td>\n",
              "      <td>6.69</td>\n",
              "      <td>33.038275</td>\n",
              "      <td>10.4</td>\n",
              "      <td>40.625789</td>\n",
              "      <td>19.7</td>\n",
              "      <td>83.922144</td>\n",
              "      <td>29.3</td>\n",
              "      <td>43.570082</td>\n",
              "      <td>7.3</td>\n",
              "      <td>32.097982</td>\n",
              "      <td>17.1</td>\n",
              "      <td>45.925362</td>\n",
              "      <td>35.564634</td>\n",
              "      <td>3.688290</td>\n",
              "      <td>27.922815</td>\n",
              "    </tr>\n",
              "    <tr>\n",
              "      <th>4</th>\n",
              "      <td>6.085503e+09</td>\n",
              "      <td>4311</td>\n",
              "      <td>Santa Clara</td>\n",
              "      <td>95122</td>\n",
              "      <td>San Jose</td>\n",
              "      <td>-121.822135</td>\n",
              "      <td>37.331408</td>\n",
              "      <td>32.60</td>\n",
              "      <td>64</td>\n",
              "      <td>0.038</td>\n",
              "      <td>22</td>\n",
              "      <td>10.37</td>\n",
              "      <td>53</td>\n",
              "      <td>26.11</td>\n",
              "      <td>79</td>\n",
              "      <td>639.64</td>\n",
              "      <td>72</td>\n",
              "      <td>0.000</td>\n",
              "      <td>0</td>\n",
              "      <td>175.02</td>\n",
              "      <td>33</td>\n",
              "      <td>915.85</td>\n",
              "      <td>63</td>\n",
              "      <td>4.5</td>\n",
              "      <td>42</td>\n",
              "      <td>3.00</td>\n",
              "      <td>22</td>\n",
              "      <td>0.10</td>\n",
              "      <td>43</td>\n",
              "      <td>0</td>\n",
              "      <td>0</td>\n",
              "      <td>0.0</td>\n",
              "      <td>0</td>\n",
              "      <td>37.84</td>\n",
              "      <td>4.66</td>\n",
              "      <td>39</td>\n",
              "      <td>56.72</td>\n",
              "      <td>65</td>\n",
              "      <td>5.34</td>\n",
              "      <td>62</td>\n",
              "      <td>...</td>\n",
              "      <td>639.641415</td>\n",
              "      <td>71.984533</td>\n",
              "      <td>0.000000</td>\n",
              "      <td>0.000000</td>\n",
              "      <td>175.022211</td>\n",
              "      <td>33.462210</td>\n",
              "      <td>915.85</td>\n",
              "      <td>63.316205</td>\n",
              "      <td>4.5</td>\n",
              "      <td>42.174389</td>\n",
              "      <td>3.00</td>\n",
              "      <td>21.880172</td>\n",
              "      <td>0.100</td>\n",
              "      <td>43.113994</td>\n",
              "      <td>0</td>\n",
              "      <td>0.000000</td>\n",
              "      <td>0.0</td>\n",
              "      <td>0.0</td>\n",
              "      <td>37.837785</td>\n",
              "      <td>4.660593</td>\n",
              "      <td>39.315495</td>\n",
              "      <td>56.72</td>\n",
              "      <td>65.178905</td>\n",
              "      <td>5.34</td>\n",
              "      <td>61.771114</td>\n",
              "      <td>10.84</td>\n",
              "      <td>81.885052</td>\n",
              "      <td>34.2</td>\n",
              "      <td>81.112793</td>\n",
              "      <td>15.1</td>\n",
              "      <td>74.656712</td>\n",
              "      <td>31.5</td>\n",
              "      <td>47.165305</td>\n",
              "      <td>12.9</td>\n",
              "      <td>75.517198</td>\n",
              "      <td>17.5</td>\n",
              "      <td>47.994415</td>\n",
              "      <td>67.450487</td>\n",
              "      <td>6.995065</td>\n",
              "      <td>76.415689</td>\n",
              "    </tr>\n",
              "  </tbody>\n",
              "</table>\n",
              "<p>5 rows × 140 columns</p>\n",
              "</div>"
            ],
            "text/plain": [
              "      Census ID  pop2010  ... Pop. Char. Score  Pop. Char. Pctl\n",
              "0  6.085509e+09     4603  ...         3.353660        23.054610\n",
              "1  6.085510e+09     4688  ...         0.836523         0.731492\n",
              "2  6.085509e+09     3212  ...         1.991725         7.478875\n",
              "3  6.085509e+09     3706  ...         3.688290        27.922815\n",
              "4  6.085503e+09     4311  ...         6.995065        76.415689\n",
              "\n",
              "[5 rows x 140 columns]"
            ]
          },
          "metadata": {
            "tags": []
          },
          "execution_count": 7
        }
      ]
    },
    {
      "cell_type": "code",
      "metadata": {
        "id": "XPAuSvqe_QbO",
        "outputId": "67f872bb-4cf1-4fce-9ce4-d6e454ecd5ce",
        "colab": {
          "base_uri": "https://localhost:8080/",
          "height": 451
        }
      },
      "source": [
        "df.columns"
      ],
      "execution_count": 8,
      "outputs": [
        {
          "output_type": "execute_result",
          "data": {
            "text/plain": [
              "Index(['County', 'INDEPENDENT BRACKET: Less than $25,000 household income',\n",
              "       '$25,000 to $49,999', '$50,000 to $74,999', '$75,000 to $99,999',\n",
              "       '$100,000 or More',\n",
              "       'CUMULATIVE: Percentage of households with income Less than $50,000',\n",
              "       'Less than $60,000', 'Less than $75,000', 'Less than $100,000',\n",
              "       'Census ID', 'Census Tract', 'Total Population', 'Unnamed: 13',\n",
              "       'California County', 'ZIP',\n",
              "       'Nearby City \\n(to help approximate location only)', 'SEISMIC PGA',\n",
              "       'Longitude', 'Latitude', 'CES 3.0 Score', ' CES 3.0 Percentile',\n",
              "       'CES 3.0 \\nPercentile Range', 'SB 535 Disadvantaged Community', 'Ozone',\n",
              "       'Ozone Pctl', 'PM2.5', 'PM2.5 Pctl', 'Diesel PM', 'Diesel PM Pctl',\n",
              "       'Drinking Water', 'Drinking Water Pctl', 'Pesticides',\n",
              "       'Pesticides Pctl', 'Tox. Release', 'Tox. Release Pctl', 'Traffic',\n",
              "       'Traffic Pctl', 'Cleanup Sites', 'Cleanup Sites Pctl',\n",
              "       'Groundwater Threats', 'Groundwater Threats Pctl', 'Haz. Waste',\n",
              "       'Haz. Waste Pctl', 'Imp. Water Bodies', 'Imp. Water Bodies Pctl',\n",
              "       'Solid Waste', 'Solid Waste Pctl', 'Pollution Burden',\n",
              "       'Pollution Burden Score', 'Pollution Burden Pctl', 'Asthma',\n",
              "       'Asthma Pctl', 'Low Birth Weight', 'Low Birth Weight Pctl',\n",
              "       'Cardiovascular Disease', 'Cardiovascular Disease Pctl', 'Education',\n",
              "       'Education Pctl', 'Linguistic Isolation', 'Linguistic Isolation Pctl',\n",
              "       'Poverty', 'Poverty Pctl', 'Unemployment', 'Unemployment Pctl',\n",
              "       'Housing Burden', 'Housing Burden Pctl', 'Pop. Char. ',\n",
              "       'Pop. Char. Score', 'Pop. Char. Pctl'],\n",
              "      dtype='object')"
            ]
          },
          "metadata": {
            "tags": []
          },
          "execution_count": 8
        }
      ]
    },
    {
      "cell_type": "code",
      "metadata": {
        "id": "Y6e32uSMJoRV"
      },
      "source": [
        "income_col = df.columns[1:10]\n",
        "popchar_col = df_dict_temp[df_dict_temp['CalEnviroScreen Category'].str.contains('Population')]['Variable Name'].drop_duplicates()\n",
        "popchar_col = [v.rstrip() for v in popchar_col]\n",
        "polbur_col = df_dict_temp[df_dict_temp['CalEnviroScreen Category'].str.contains('Pollution')]['Variable Name'].drop_duplicates()\n",
        "polbur_col = [v.rstrip() for v in polbur_col]\n",
        "seismic_col = 'SEISMIC PGA'"
      ],
      "execution_count": 9,
      "outputs": []
    },
    {
      "cell_type": "code",
      "metadata": {
        "id": "oG8sIWEQJzJ2",
        "outputId": "1bfca6f0-604b-4795-f1dc-f6ebfc0ebb2a",
        "colab": {
          "base_uri": "https://localhost:8080/",
          "height": 121
        }
      },
      "source": [
        "income_col"
      ],
      "execution_count": 10,
      "outputs": [
        {
          "output_type": "execute_result",
          "data": {
            "text/plain": [
              "Index(['INDEPENDENT BRACKET: Less than $25,000 household income',\n",
              "       '$25,000 to $49,999', '$50,000 to $74,999', '$75,000 to $99,999',\n",
              "       '$100,000 or More',\n",
              "       'CUMULATIVE: Percentage of households with income Less than $50,000',\n",
              "       'Less than $60,000', 'Less than $75,000', 'Less than $100,000'],\n",
              "      dtype='object')"
            ]
          },
          "metadata": {
            "tags": []
          },
          "execution_count": 10
        }
      ]
    },
    {
      "cell_type": "markdown",
      "metadata": {
        "id": "x3pb6GqKppR8"
      },
      "source": [
        "### Spatial Cross-Correlation\n",
        "\n",
        "> Chen Y (2015) A New Methodology of Spatial Cross-Correlation Analysis. PLoS ONE 10(5): e0126158. https://doi.org/10.1371/journal.pone.0126158\n",
        "\n"
      ]
    },
    {
      "cell_type": "code",
      "metadata": {
        "id": "_9mD3JBAbc0i"
      },
      "source": [
        "var1 = 'PM2.5'\n",
        "var2 = 'Asthma'\n",
        "vars = [var1,var2]\n",
        "gdf_vars = gdf.dropna(subset=vars)\n",
        "# w = lps.weights.Queen.from_dataframe(gdf_vars)\n",
        "# Wmatrix, ids = w.full()\n",
        "x = np.array(gdf_vars[var1])\n",
        "y = np.array(gdf_vars[var2])\n",
        "# standardize\n",
        "x = (x - np.mean(x)) / np.std(x)\n",
        "y = (y - np.mean(y)) / np.std(y)\n",
        "# expand dimensions\n",
        "x = np.expand_dims(x, axis=1)\n",
        "y = np.expand_dims(y, axis=1)"
      ],
      "execution_count": 202,
      "outputs": []
    },
    {
      "cell_type": "code",
      "metadata": {
        "id": "tS5auWXLdYFM"
      },
      "source": [
        "# pairwise distance between coordinates of areas\n",
        "gdf_vars_loc = gdf_vars[['Longitude_x','Latitude_x']]\n",
        "dist_mat = squareform(pdist(gdf_vars_loc))\n",
        "n = len(dist_mat)\n",
        "# contiguity: inverse power\n",
        "contiguity_mat = 1/(np.identity(n)+dist_mat)-np.identity(n)\n",
        "contiguity_mat = contiguity_mat/np.sum(contiguity_mat) # standardize\n",
        "\n",
        "# # contiguity: negative exponent\n",
        "# denom = np.sum(dist_mat)/(n*(n+1))\n",
        "# contiguity_mat = np.exp(-2*dist_mat/denom)\n",
        "# np.fill_diagonal(contiguity_mat, 0)"
      ],
      "execution_count": 203,
      "outputs": []
    },
    {
      "cell_type": "code",
      "metadata": {
        "id": "Bjc08DjskTX5",
        "outputId": "5e6fd78d-c8c9-46a7-8f0c-1088eb9e9353",
        "colab": {
          "base_uri": "https://localhost:8080/",
          "height": 35
        }
      },
      "source": [
        "x.shape"
      ],
      "execution_count": 204,
      "outputs": [
        {
          "output_type": "execute_result",
          "data": {
            "text/plain": [
              "(1581, 1)"
            ]
          },
          "metadata": {
            "tags": []
          },
          "execution_count": 204
        }
      ]
    },
    {
      "cell_type": "code",
      "metadata": {
        "id": "775QEVgmbM2V",
        "outputId": "00f1e5df-92d8-4303-c7de-895a2275d7f8",
        "colab": {
          "base_uri": "https://localhost:8080/",
          "height": 121
        }
      },
      "source": [
        "# SCI is a correlation coefficient, and its value falls between -1 and 1\n",
        "# first SCI value: x'*W*y\n",
        "rc1 = np.matmul(np.matmul(x.T,contiguity_mat),y)[0,0]\n",
        "# second SCI value\n",
        "rc2 = np.matmul(np.matmul(y.T,contiguity_mat),x)[0,0]\n",
        "# first goodness of fit (GOF, R^2 score)\n",
        "rsq1 = r2_score(n*contiguity_mat.dot(y),x*rc1) # (sum(y'*(n*W*x))/(sum(y.^2)*sum((n*W*x).^2))^0.5)^2;\n",
        "rsq2 = r2_score(n*contiguity_mat.dot(x),x*rc2)\n",
        "\n",
        "# GSCI (global spatial crosscorrelation index) and GOF (goodness of fit)\n",
        "print(\"SCI({} - {})={}\".format(var1,var2,rc1))\n",
        "print(\"SCI({} - {})={}\".format(var2,var1,rc2))\n",
        "print(\"GOF({} - {})={}\".format(var1,var2,rsq1))\n",
        "print(\"GOF({} - {})={}\".format(var2,var1,rsq2))\n",
        "print(\"{} can explain about {:.3f}% of the spatial change of the level of {}\".format(var1,rsq1*100,var2))\n",
        "print(\"{} can explain about {:.3f}% of the spatial change of the level of {}\".format(var2,rsq2*100,var1))\n",
        "\n"
      ],
      "execution_count": 205,
      "outputs": [
        {
          "output_type": "stream",
          "text": [
            "SCI(PM2.5 - Asthma)=-0.13081060858676163\n",
            "SCI(Asthma - PM2.5)=-0.13081060858676163\n",
            "GOF(PM2.5 - Asthma)=0.22410742861502309\n",
            "GOF(Asthma - PM2.5)=-0.7281985487399107\n",
            "PM2.5 can explain about 22.411% of the spatial change of the level of Asthma\n",
            "Asthma can explain about -72.820% of the spatial change of the level of PM2.5\n"
          ],
          "name": "stdout"
        }
      ]
    },
    {
      "cell_type": "code",
      "metadata": {
        "id": "EP-qWlP-hncc",
        "outputId": "0301d89f-e3b0-467f-c662-c8b425a45ae2",
        "colab": {
          "base_uri": "https://localhost:8080/",
          "height": 370
        }
      },
      "source": [
        "# plot\n",
        "plt.figure(figsize=(12,5))\n",
        "ax1 = plt.subplot(121)\n",
        "plt.scatter(x,n*contiguity_mat.dot(y),s=8,alpha=0.5)\n",
        "# plt.scatter(x,x*x.T.dot(contiguity_mat.dot(y)),s=10,alpha=0.5)\n",
        "plt.plot(x,x*rc1,'r-',label=\"trend line\")\n",
        "plt.text(min(x), max(n*contiguity_mat.dot(y))*0.8, 'SCI={:.2f}\\n $R^2$={:.2f}'.format(rc1,rsq1), fontsize=12)\n",
        "plt.xlabel('x')\n",
        "plt.ylabel('$nWy,xx^TWy$')\n",
        "# plt.title(\"scatterplot of {}\".format(var1))\n",
        "\n",
        "ax2 = plt.subplot(122)\n",
        "plt.scatter(y,n*contiguity_mat.dot(x),s=8,alpha=0.5)\n",
        "plt.plot(y,y*rc2,'r-',label=\"trend line\")\n",
        "plt.text(min(y), max(n*contiguity_mat.dot(x))*0.8, 'SCI={:.2f}\\n $R^2$={:.2f}'.format(rc2,rsq2), fontsize=12)\n",
        "plt.xlabel('y')\n",
        "plt.ylabel('$nWx,yy^TWx$')\n",
        "# plt.title(\"scatterplot of {}\".format(var2))\n",
        "plt.suptitle(\"Dual scatterplots of spatial cross-correlation between {} (x) and {} (y)\".format(var1,var2))\n",
        "pass\n",
        "\n",
        "plt.savefig(\"dual_scatterplot_{}_vs_{}.png\".format(var1,var2),bbox_inches='tight', )\n",
        "files.download(\"dual_scatterplot_{}_vs_{}.png\".format(var1,var2)) "
      ],
      "execution_count": 206,
      "outputs": [
        {
          "output_type": "display_data",
          "data": {
            "application/javascript": [
              "\n",
              "    async function download(id, filename, size) {\n",
              "      if (!google.colab.kernel.accessAllowed) {\n",
              "        return;\n",
              "      }\n",
              "      const div = document.createElement('div');\n",
              "      const label = document.createElement('label');\n",
              "      label.textContent = `Downloading \"${filename}\": `;\n",
              "      div.appendChild(label);\n",
              "      const progress = document.createElement('progress');\n",
              "      progress.max = size;\n",
              "      div.appendChild(progress);\n",
              "      document.body.appendChild(div);\n",
              "\n",
              "      const buffers = [];\n",
              "      let downloaded = 0;\n",
              "\n",
              "      const channel = await google.colab.kernel.comms.open(id);\n",
              "      // Send a message to notify the kernel that we're ready.\n",
              "      channel.send({})\n",
              "\n",
              "      for await (const message of channel.messages) {\n",
              "        // Send a message to notify the kernel that we're ready.\n",
              "        channel.send({})\n",
              "        if (message.buffers) {\n",
              "          for (const buffer of message.buffers) {\n",
              "            buffers.push(buffer);\n",
              "            downloaded += buffer.byteLength;\n",
              "            progress.value = downloaded;\n",
              "          }\n",
              "        }\n",
              "      }\n",
              "      const blob = new Blob(buffers, {type: 'application/binary'});\n",
              "      const a = document.createElement('a');\n",
              "      a.href = window.URL.createObjectURL(blob);\n",
              "      a.download = filename;\n",
              "      div.appendChild(a);\n",
              "      a.click();\n",
              "      div.remove();\n",
              "    }\n",
              "  "
            ],
            "text/plain": [
              "<IPython.core.display.Javascript object>"
            ]
          },
          "metadata": {
            "tags": []
          }
        },
        {
          "output_type": "display_data",
          "data": {
            "application/javascript": [
              "download(\"download_30e6b450-da31-430f-a54b-9886046a8287\", \"dual_scatterplot_PM2.5_vs_Asthma.png\", 65895)"
            ],
            "text/plain": [
              "<IPython.core.display.Javascript object>"
            ]
          },
          "metadata": {
            "tags": []
          }
        },
        {
          "output_type": "display_data",
          "data": {
            "image/png": "[encoded data removed]",
            "text/plain": [
              "<Figure size 864x360 with 2 Axes>"
            ]
          },
          "metadata": {
            "tags": [],
            "needs_background": "light"
          }
        }
      ]
    },
    {
      "cell_type": "code",
      "metadata": {
        "id": "LL1uL9Vtb594",
        "outputId": "f747b05f-9915-4049-fd6d-1e4c4f9320a1",
        "colab": {
          "base_uri": "https://localhost:8080/",
          "height": 295
        }
      },
      "source": [
        "# LSCI (local SCI)\n",
        "lsci1 = np.diag(np.matmul(np.matmul(x,y.T),contiguity_mat))\n",
        "lsci2 = np.diag(np.matmul(np.matmul(y,x.T),contiguity_mat))\n",
        "plt.figure()\n",
        "plt.scatter(lsci1,lsci2,s=10,alpha=0.5)\n",
        "plt.xlabel(\"LSCI of {}\".format(var1))\n",
        "plt.ylabel(\"LSCI of {}\".format(var2))\n",
        "plt.axvline(x=0,c=(0,0,0,0.3),ls='--')\n",
        "plt.axhline(y=0,c=(0,0,0,0.3),ls='--')\n",
        "plt.title('Local SCI Scatterplot')\n",
        "plt.savefig(\"local_sci_{}_vs_{}.png\".format(var1,var2),bbox_inches='tight', )\n",
        "files.download(\"local_sci_{}_vs_{}.png\".format(var1,var2)) "
      ],
      "execution_count": 207,
      "outputs": [
        {
          "output_type": "display_data",
          "data": {
            "application/javascript": [
              "\n",
              "    async function download(id, filename, size) {\n",
              "      if (!google.colab.kernel.accessAllowed) {\n",
              "        return;\n",
              "      }\n",
              "      const div = document.createElement('div');\n",
              "      const label = document.createElement('label');\n",
              "      label.textContent = `Downloading \"${filename}\": `;\n",
              "      div.appendChild(label);\n",
              "      const progress = document.createElement('progress');\n",
              "      progress.max = size;\n",
              "      div.appendChild(progress);\n",
              "      document.body.appendChild(div);\n",
              "\n",
              "      const buffers = [];\n",
              "      let downloaded = 0;\n",
              "\n",
              "      const channel = await google.colab.kernel.comms.open(id);\n",
              "      // Send a message to notify the kernel that we're ready.\n",
              "      channel.send({})\n",
              "\n",
              "      for await (const message of channel.messages) {\n",
              "        // Send a message to notify the kernel that we're ready.\n",
              "        channel.send({})\n",
              "        if (message.buffers) {\n",
              "          for (const buffer of message.buffers) {\n",
              "            buffers.push(buffer);\n",
              "            downloaded += buffer.byteLength;\n",
              "            progress.value = downloaded;\n",
              "          }\n",
              "        }\n",
              "      }\n",
              "      const blob = new Blob(buffers, {type: 'application/binary'});\n",
              "      const a = document.createElement('a');\n",
              "      a.href = window.URL.createObjectURL(blob);\n",
              "      a.download = filename;\n",
              "      div.appendChild(a);\n",
              "      a.click();\n",
              "      div.remove();\n",
              "    }\n",
              "  "
            ],
            "text/plain": [
              "<IPython.core.display.Javascript object>"
            ]
          },
          "metadata": {
            "tags": []
          }
        },
        {
          "output_type": "display_data",
          "data": {
            "application/javascript": [
              "download(\"download_0bd1043b-bda3-4ea7-8ede-c9cad8c2e509\", \"local_sci_PM2.5_vs_Asthma.png\", 33608)"
            ],
            "text/plain": [
              "<IPython.core.display.Javascript object>"
            ]
          },
          "metadata": {
            "tags": []
          }
        },
        {
          "output_type": "display_data",
          "data": {
            "image/png": "[encoded data removed]",
            "text/plain": [
              "<Figure size 432x288 with 1 Axes>"
            ]
          },
          "metadata": {
            "tags": [],
            "needs_background": "light"
          }
        }
      ]
    },
    {
      "cell_type": "code",
      "metadata": {
        "id": "CW2wh-bmpmPA"
      },
      "source": [
        ""
      ],
      "execution_count": null,
      "outputs": []
    },
    {
      "cell_type": "code",
      "metadata": {
        "id": "zLkavWy9HKIj"
      },
      "source": [
        ""
      ],
      "execution_count": null,
      "outputs": []
    }
  ]
}