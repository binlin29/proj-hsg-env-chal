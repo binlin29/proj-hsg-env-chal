{
 "cells": [
  {
   "cell_type": "markdown",
   "metadata": {
    "colab": {
     "base_uri": "https://localhost:8080/",
     "height": 35
    },
    "colab_type": "code",
    "id": "ReydVtHuFD2C",
    "outputId": "0c5f38c0-43c1-400e-a42e-945b96959eb0"
   },
   "source": [
    "About the dataset: https://www.kaggle.com/headsortails/us-natural-disaster-declarations"
   ]
  },
  {
   "cell_type": "code",
   "execution_count": 1,
   "metadata": {
    "colab": {},
    "colab_type": "code",
    "id": "eYBKQ0xBIPYF"
   },
   "outputs": [],
   "source": [
    "import pandas as pd\n",
    "%matplotlib inline\n",
    "import numpy as np\n",
    "import matplotlib.pyplot as plt\n",
    "import random\n"
   ]
  },
  {
   "cell_type": "code",
   "execution_count": 3,
   "metadata": {
    "colab": {},
    "colab_type": "code",
    "id": "VI7iMWTTHLz5"
   },
   "outputs": [],
   "source": [
    "# load data\n",
    "dataPath = \"/mnt/data/us_disaster_declarations/\"\n",
    "df = pd.read_csv(dataPath+\"us_disaster_declarations.csv\")"
   ]
  },
  {
   "cell_type": "code",
   "execution_count": 4,
   "metadata": {
    "colab": {
     "base_uri": "https://localhost:8080/",
     "height": 482
    },
    "colab_type": "code",
    "id": "deD0w3TFIS1V",
    "outputId": "960d5c98-125e-4621-bf66-b59f4141fc1b"
   },
   "outputs": [
    {
     "data": {
      "text/html": [
       "<div>\n",
       "<style scoped>\n",
       "    .dataframe tbody tr th:only-of-type {\n",
       "        vertical-align: middle;\n",
       "    }\n",
       "\n",
       "    .dataframe tbody tr th {\n",
       "        vertical-align: top;\n",
       "    }\n",
       "\n",
       "    .dataframe thead th {\n",
       "        text-align: right;\n",
       "    }\n",
       "</style>\n",
       "<table border=\"1\" class=\"dataframe\">\n",
       "  <thead>\n",
       "    <tr style=\"text-align: right;\">\n",
       "      <th></th>\n",
       "      <th>fema_declaration_string</th>\n",
       "      <th>disaster_number</th>\n",
       "      <th>state</th>\n",
       "      <th>declaration_type</th>\n",
       "      <th>declaration_date</th>\n",
       "      <th>fy_declared</th>\n",
       "      <th>incident_type</th>\n",
       "      <th>declaration_title</th>\n",
       "      <th>ih_program_declared</th>\n",
       "      <th>ia_program_declared</th>\n",
       "      <th>...</th>\n",
       "      <th>incident_begin_date</th>\n",
       "      <th>incident_end_date</th>\n",
       "      <th>disaster_closeout_date</th>\n",
       "      <th>fips</th>\n",
       "      <th>place_code</th>\n",
       "      <th>designated_area</th>\n",
       "      <th>declaration_request_number</th>\n",
       "      <th>hash</th>\n",
       "      <th>last_refresh</th>\n",
       "      <th>id</th>\n",
       "    </tr>\n",
       "  </thead>\n",
       "  <tbody>\n",
       "    <tr>\n",
       "      <th>0</th>\n",
       "      <td>DR-1-GA</td>\n",
       "      <td>1</td>\n",
       "      <td>GA</td>\n",
       "      <td>DR</td>\n",
       "      <td>1953-05-02T04:00:00Z</td>\n",
       "      <td>1953</td>\n",
       "      <td>Tornado</td>\n",
       "      <td>Tornado</td>\n",
       "      <td>0</td>\n",
       "      <td>1</td>\n",
       "      <td>...</td>\n",
       "      <td>1953-05-02T04:00:00Z</td>\n",
       "      <td>1953-05-02T04:00:00Z</td>\n",
       "      <td>1954-06-01T04:00:00Z</td>\n",
       "      <td>13000</td>\n",
       "      <td>0</td>\n",
       "      <td>Statewide</td>\n",
       "      <td>53013</td>\n",
       "      <td>2f28952448e0a666d367ca3f854c81ec</td>\n",
       "      <td>2020-08-25T15:41:23Z</td>\n",
       "      <td>5f453123d07c217eca1a15d2</td>\n",
       "    </tr>\n",
       "    <tr>\n",
       "      <th>1</th>\n",
       "      <td>DR-2-TX</td>\n",
       "      <td>2</td>\n",
       "      <td>TX</td>\n",
       "      <td>DR</td>\n",
       "      <td>1953-05-15T04:00:00Z</td>\n",
       "      <td>1953</td>\n",
       "      <td>Tornado</td>\n",
       "      <td>Tornado &amp; Heavy Rainfall</td>\n",
       "      <td>0</td>\n",
       "      <td>1</td>\n",
       "      <td>...</td>\n",
       "      <td>1953-05-15T04:00:00Z</td>\n",
       "      <td>1953-05-15T04:00:00Z</td>\n",
       "      <td>1958-01-01T05:00:00Z</td>\n",
       "      <td>48000</td>\n",
       "      <td>0</td>\n",
       "      <td>Statewide</td>\n",
       "      <td>53003</td>\n",
       "      <td>c5a1a4a1030d6730d9c562cdbe7c830f</td>\n",
       "      <td>2020-08-25T15:41:23Z</td>\n",
       "      <td>5f453123d07c217eca1a15e3</td>\n",
       "    </tr>\n",
       "    <tr>\n",
       "      <th>2</th>\n",
       "      <td>DR-3-LA</td>\n",
       "      <td>3</td>\n",
       "      <td>LA</td>\n",
       "      <td>DR</td>\n",
       "      <td>1953-05-29T04:00:00Z</td>\n",
       "      <td>1953</td>\n",
       "      <td>Flood</td>\n",
       "      <td>Flood</td>\n",
       "      <td>0</td>\n",
       "      <td>1</td>\n",
       "      <td>...</td>\n",
       "      <td>1953-05-29T04:00:00Z</td>\n",
       "      <td>1953-05-29T04:00:00Z</td>\n",
       "      <td>1960-02-01T05:00:00Z</td>\n",
       "      <td>22000</td>\n",
       "      <td>0</td>\n",
       "      <td>Statewide</td>\n",
       "      <td>53005</td>\n",
       "      <td>745948932fd77a7c6dcd4de7059ff080</td>\n",
       "      <td>2020-08-25T15:41:23Z</td>\n",
       "      <td>5f453123d07c217eca1a15de</td>\n",
       "    </tr>\n",
       "    <tr>\n",
       "      <th>3</th>\n",
       "      <td>DR-4-MI</td>\n",
       "      <td>4</td>\n",
       "      <td>MI</td>\n",
       "      <td>DR</td>\n",
       "      <td>1953-06-02T04:00:00Z</td>\n",
       "      <td>1953</td>\n",
       "      <td>Tornado</td>\n",
       "      <td>Tornado</td>\n",
       "      <td>0</td>\n",
       "      <td>1</td>\n",
       "      <td>...</td>\n",
       "      <td>1953-06-02T04:00:00Z</td>\n",
       "      <td>1953-06-02T04:00:00Z</td>\n",
       "      <td>1956-02-01T05:00:00Z</td>\n",
       "      <td>26000</td>\n",
       "      <td>0</td>\n",
       "      <td>Statewide</td>\n",
       "      <td>53004</td>\n",
       "      <td>8c9dee13124e36a9dfe2eb74e33fafad</td>\n",
       "      <td>2020-08-25T15:41:23Z</td>\n",
       "      <td>5f453123d07c217eca1a15ea</td>\n",
       "    </tr>\n",
       "    <tr>\n",
       "      <th>4</th>\n",
       "      <td>DR-5-MT</td>\n",
       "      <td>5</td>\n",
       "      <td>MT</td>\n",
       "      <td>DR</td>\n",
       "      <td>1953-06-06T04:00:00Z</td>\n",
       "      <td>1953</td>\n",
       "      <td>Flood</td>\n",
       "      <td>Floods</td>\n",
       "      <td>0</td>\n",
       "      <td>1</td>\n",
       "      <td>...</td>\n",
       "      <td>1953-06-06T04:00:00Z</td>\n",
       "      <td>1953-06-06T04:00:00Z</td>\n",
       "      <td>1955-12-01T05:00:00Z</td>\n",
       "      <td>30000</td>\n",
       "      <td>0</td>\n",
       "      <td>Statewide</td>\n",
       "      <td>53006</td>\n",
       "      <td>59c5483387ca13c6a3c1bc692f4860e1</td>\n",
       "      <td>2020-08-25T15:41:23Z</td>\n",
       "      <td>5f453123d07c217eca1a15df</td>\n",
       "    </tr>\n",
       "  </tbody>\n",
       "</table>\n",
       "<p>5 rows × 22 columns</p>\n",
       "</div>"
      ],
      "text/plain": [
       "  fema_declaration_string  disaster_number state declaration_type  \\\n",
       "0                 DR-1-GA                1    GA               DR   \n",
       "1                 DR-2-TX                2    TX               DR   \n",
       "2                 DR-3-LA                3    LA               DR   \n",
       "3                 DR-4-MI                4    MI               DR   \n",
       "4                 DR-5-MT                5    MT               DR   \n",
       "\n",
       "       declaration_date  fy_declared incident_type         declaration_title  \\\n",
       "0  1953-05-02T04:00:00Z         1953       Tornado                   Tornado   \n",
       "1  1953-05-15T04:00:00Z         1953       Tornado  Tornado & Heavy Rainfall   \n",
       "2  1953-05-29T04:00:00Z         1953         Flood                     Flood   \n",
       "3  1953-06-02T04:00:00Z         1953       Tornado                   Tornado   \n",
       "4  1953-06-06T04:00:00Z         1953         Flood                    Floods   \n",
       "\n",
       "   ih_program_declared  ia_program_declared  ...   incident_begin_date  \\\n",
       "0                    0                    1  ...  1953-05-02T04:00:00Z   \n",
       "1                    0                    1  ...  1953-05-15T04:00:00Z   \n",
       "2                    0                    1  ...  1953-05-29T04:00:00Z   \n",
       "3                    0                    1  ...  1953-06-02T04:00:00Z   \n",
       "4                    0                    1  ...  1953-06-06T04:00:00Z   \n",
       "\n",
       "      incident_end_date disaster_closeout_date   fips place_code  \\\n",
       "0  1953-05-02T04:00:00Z   1954-06-01T04:00:00Z  13000          0   \n",
       "1  1953-05-15T04:00:00Z   1958-01-01T05:00:00Z  48000          0   \n",
       "2  1953-05-29T04:00:00Z   1960-02-01T05:00:00Z  22000          0   \n",
       "3  1953-06-02T04:00:00Z   1956-02-01T05:00:00Z  26000          0   \n",
       "4  1953-06-06T04:00:00Z   1955-12-01T05:00:00Z  30000          0   \n",
       "\n",
       "   designated_area  declaration_request_number  \\\n",
       "0        Statewide                       53013   \n",
       "1        Statewide                       53003   \n",
       "2        Statewide                       53005   \n",
       "3        Statewide                       53004   \n",
       "4        Statewide                       53006   \n",
       "\n",
       "                               hash          last_refresh  \\\n",
       "0  2f28952448e0a666d367ca3f854c81ec  2020-08-25T15:41:23Z   \n",
       "1  c5a1a4a1030d6730d9c562cdbe7c830f  2020-08-25T15:41:23Z   \n",
       "2  745948932fd77a7c6dcd4de7059ff080  2020-08-25T15:41:23Z   \n",
       "3  8c9dee13124e36a9dfe2eb74e33fafad  2020-08-25T15:41:23Z   \n",
       "4  59c5483387ca13c6a3c1bc692f4860e1  2020-08-25T15:41:23Z   \n",
       "\n",
       "                         id  \n",
       "0  5f453123d07c217eca1a15d2  \n",
       "1  5f453123d07c217eca1a15e3  \n",
       "2  5f453123d07c217eca1a15de  \n",
       "3  5f453123d07c217eca1a15ea  \n",
       "4  5f453123d07c217eca1a15df  \n",
       "\n",
       "[5 rows x 22 columns]"
      ]
     },
     "execution_count": 4,
     "metadata": {},
     "output_type": "execute_result"
    }
   ],
   "source": [
    "df.head()"
   ]
  },
  {
   "cell_type": "code",
   "execution_count": 5,
   "metadata": {},
   "outputs": [
    {
     "name": "stdout",
     "output_type": "stream",
     "text": [
      "#declarations: 60278\n"
     ]
    }
   ],
   "source": [
    "num_declr = len(df) \n",
    "print(\"#declarations: {}\".format(num_declr))"
   ]
  },
  {
   "cell_type": "code",
   "execution_count": 6,
   "metadata": {},
   "outputs": [
    {
     "data": {
      "image/png": "[encoded data removed]",
      "text/plain": [
       "<Figure size 1080x360 with 1 Axes>"
      ]
     },
     "metadata": {
      "needs_background": "light"
     },
     "output_type": "display_data"
    }
   ],
   "source": [
    "ax = pd.DatetimeIndex(df['incident_begin_date']).year.value_counts().sort_index().plot(kind='bar',figsize=(15,5),\n",
    "                                       title=\"Number of disaters declared in each year \\n({} records in total)\".format(num_declr))\n",
    "ax.set_xlabel(\"year\")\n",
    "ax.set_ylabel(\"number of disaters\")\n",
    "pass"
   ]
  },
  {
   "cell_type": "code",
   "execution_count": 7,
   "metadata": {
    "colab": {},
    "colab_type": "code",
    "id": "z1PhchyKgMOU"
   },
   "outputs": [
    {
     "data": {
      "image/png": "[encoded data removed]",
      "text/plain": [
       "<Figure size 1080x360 with 1 Axes>"
      ]
     },
     "metadata": {
      "needs_background": "light"
     },
     "output_type": "display_data"
    }
   ],
   "source": [
    "ax = df['incident_type'].value_counts().plot(kind='bar',figsize=(15,5),\n",
    "                                       title=\"Number of disaters declared in each indicent types \\n({} records in total)\".format(num_declr))\n",
    "ax.set_xlabel(\"indicent types\")\n",
    "ax.set_ylabel(\"number of disaters\")\n",
    "pass"
   ]
  },
  {
   "cell_type": "code",
   "execution_count": null,
   "metadata": {},
   "outputs": [],
   "source": []
  }
 ],
 "metadata": {
  "colab": {
   "authorship_tag": "ABX9TyOWLhQMkgzrxHYeOTaoST0F",
   "include_colab_link": true,
   "name": "data_explore_public_hsg.ipynb",
   "provenance": []
  },
  "kernelspec": {
   "display_name": "Python 3",
   "language": "python",
   "name": "python3"
  },
  "language_info": {
   "codemirror_mode": {
    "name": "ipython",
    "version": 3
   },
   "file_extension": ".py",
   "mimetype": "text/x-python",
   "name": "python",
   "nbconvert_exporter": "python",
   "pygments_lexer": "ipython3",
   "version": "3.6.10"
  }
 },
 "nbformat": 4,
 "nbformat_minor": 1
}
